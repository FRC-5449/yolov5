{
 "cells": [
  {
   "cell_type": "code",
   "execution_count": null,
   "metadata": {
    "collapsed": true
   },
   "outputs": [],
   "source": [
    "import cv2\n",
    "\n",
    "stereo = cv2.StereoBM_create(numDisparities=16, blockSize=9)  # 立体匹配\n",
    "stereo.setROI1(camera_config.validPixROI1)\n",
    "stereo.setROI2(camera_config.validPixROI2)\n",
    "stereo.setPreFilterCap(31)\n",
    "stereo.setBlockSize(15)\n",
    "stereo.setMinDisparity(0)\n",
    "stereo.setNumDisparities(numberOfDisparities)\n",
    "stereo.setTextureThreshold(10)\n",
    "stereo.setUniquenessRatio(15)\n",
    "stereo.setSpeckleWindowSize(100)\n",
    "stereo.setSpeckleRange(32)\n",
    "stereo.setDisp12MaxDiff(1)\n",
    "\n",
    "disparity = stereo.compute(img1_rectified, img2_rectified)"
   ]
  }
 ],
 "metadata": {
  "kernelspec": {
   "display_name": "Python 3",
   "language": "python",
   "name": "python3"
  },
  "language_info": {
   "codemirror_mode": {
    "name": "ipython",
    "version": 2
   },
   "file_extension": ".py",
   "mimetype": "text/x-python",
   "name": "python",
   "nbconvert_exporter": "python",
   "pygments_lexer": "ipython2",
   "version": "2.7.6"
  }
 },
 "nbformat": 4,
 "nbformat_minor": 0
}